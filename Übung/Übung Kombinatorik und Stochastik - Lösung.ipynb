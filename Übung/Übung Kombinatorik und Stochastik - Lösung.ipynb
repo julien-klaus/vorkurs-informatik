{
 "cells": [
  {
   "cell_type": "markdown",
   "metadata": {},
   "source": [
    "# Übung Kombinatorik und Stochastik\n",
    "\n",
    "## Aufgabe 1\n",
    "Personen $a,b,c,d$ sollen auf einer Konferenz einen Vortrag halten. Wie viele verschiedene Reihenfolgen der Redner sind möglich, wenn\n",
    "\n",
    "1. es keine Einschränkungen gibt\n",
    "2. a jedenfalls zuerst sprechen soll oder\n",
    "3. d nicht an letzter Stelle sprechen soll\n",
    "\n",
    "<details>\n",
    "\n",
    "<summary>Antworten</summary>\n",
    "\n",
    " 1. $4!=1\\cdot 2\\cdot 3\\cdot 4=24$,\n",
    " 2. $3! = 6$\n",
    " 3. $\\binom{3}{1}\\cdot 3! = 3\\cdot 6 = 18$.\n",
    "</details>"
   ]
  },
  {
   "cell_type": "code",
   "execution_count": 3,
   "metadata": {
    "ExecuteTime": {
     "end_time": "2023-10-12T10:33:31.235790300Z",
     "start_time": "2023-10-12T10:33:31.230266800Z"
    }
   },
   "outputs": [
    {
     "name": "stdout",
     "output_type": "stream",
     "text": [
      "1. 24\n",
      "2. 6\n",
      "3. 18\n"
     ]
    }
   ],
   "source": [
    "import numpy as np\n",
    "import itertools\n",
    "\n",
    "# Wir testen die dritte Teilaufgabe mit Python\n",
    "persons = [\"a\",\"b\",\"c\",\"d\"]\n",
    "\n",
    "\n",
    "# Erstelle liste aller Permutationen mit itertools\n",
    "permus  = list(itertools.permutations(persons))\n",
    "\n",
    "### 1. \n",
    "print (f\"1. {len(permus)}\")\n",
    "\n",
    "### 2. \n",
    "number = 0\n",
    "for permu in permus:\n",
    "    if permu[0] == \"a\":\n",
    "        number += 1\n",
    "print(f\"2. {number}\")\n",
    "\n",
    "### 3. \n",
    "number = 0\n",
    "for permu in permus:\n",
    "    if permu[-1] != \"d\":\n",
    "        number += 1\n",
    "print(f\"3. {number}\")"
   ]
  },
  {
   "cell_type": "markdown",
   "metadata": {},
   "source": [
    "## Aufgabe 2\n",
    "Ein Multiple-Choice Test besteht aus vier Fragen, bei jeder Frage stehen drei Antworten zur Auswahl. Nur eine davon ist richtig. Wie groß ist die Wahrscheinlichkeit, durch zufälliges Raten\n",
    "\n",
    "\n",
    " 1. alle vier Fragen\n",
    " 2. nur eine Frage richtig zu beantworten\n",
    "\n",
    "\n",
    "<details>\n",
    "\n",
    "<summary>Antworten</summary>\n",
    "\n",
    " 1. $\\frac{1}{3^4} = \\frac{1}{81}\\approx 0.0123$ (die Wahrscheinlichkeit eine richtige Antwort zu haben ist $\\frac{1}{3}$ und somit haben wir dies $4$ mal),\n",
    " 2. $\\binom{4}{1}\\cdot\\left(\\frac{1}{3}\\right)^1\\cdot\\left(\\frac{2}{3}\\right)^3 \\approx 0.395$ (wir wählen eine der vier Fragen aus und haben dann die Erfolgs und Fehlerwahrscheinlichkeiten).\n",
    "\n",
    " **Moral? - Raten bringt nicht viel**\n",
    "</details>\n",
    "\n"
   ]
  },
  {
   "cell_type": "markdown",
   "metadata": {},
   "source": [
    "\n",
    "## Aufgabe 3 \n",
    "Wie viele Initialien gibt es aus Vor-, Mittel- und Nachname?\n",
    "\n",
    "\n",
    "<details>\n",
    "\n",
    "<summary>Antwort</summary>\n",
    "\n",
    "Wir haben 26 Möglichkeiten für den Vornamen, 26 Möglichkeiten für den Mittelnamen und 26 Möglichkeiten für den Nachnamen. Insgesamt also $26^3=17576$.\n",
    "</details>"
   ]
  },
  {
   "cell_type": "markdown",
   "metadata": {},
   "source": [
    "## Aufgabe 4\n",
    "Andreas feiert Geburtstag und lädt dazu acht Personen ein. Alle geben sich gegenseitig die Hand. Wie oft wurde die Hand gereicht.\n",
    "\n",
    "<details>\n",
    "\n",
    "<summary>Antwort</summary>\n",
    "\n",
    "Andreas muss 8 Personen die Hand geben. Danach hat jede der 8 Personen Andreas seine Hand geschüttelt und braucht diesen nicht mehr zu grüßen. Eine beliebige Person der 8 muss somit nur noch 7 Personen grüßen. Alle 7 haben danach 2 Personen gegrüßt. Eine beliebige der übrigen 7 muss somit nur noch 6 Personen grüßen. Diese Summe geht herunter bis auf 2 Personen, wo eine Person nur noch 1 andere Person grüßen muss. Die Lösung sind also \n",
    "\n",
    "$$\n",
    "\\sum_{i=1}^8 i = \\frac{8\\cdot9}{2} = 36 \n",
    "$$\n",
    "\n",
    "Händeschüttelaktionen.\n",
    "</details>\n"
   ]
  },
  {
   "cell_type": "markdown",
   "metadata": {},
   "source": [
    "## Aufgabe 5 \n",
    "Beim Lotto 6aus49 werden 6 Kugeln aus einer Menge von 49 Kugeln gezogen. Wie viele Möglichkeiten gibt es, die 6 Kugeln zu ziehen? Diese werden nicht zurückgelegt. Wie lautet die Wahrscheinlichkeit dafür, von den 6 ausgewählten Kugeln 4 richtig zu haben?\n",
    "\n",
    "\n",
    "\n",
    "<details>\n",
    "\n",
    "<summary>Antwort</summary>\n",
    "\n",
    "Es gibt genau $\\binom{49}{6}= 13983816$ Möglichkeiten aus 49 Kugeln 6 zu ziehen.\n",
    "\n",
    "Wenn wir davon genau 4 richtige haben wollen benötigen wir die Anzahl der Möglichkeiten aus 6 Kugeln genau 4 richtige und aus den restlichen 43 (49-6) genau 2 falsch (wir haben die nicht angekreuzt, also sind sie aus den 43 die nicht auf unserem Zettel stehen) zu haben. Dies müssen wir durch die gesamt Anzahl teilen.\n",
    "\n",
    "$$\n",
    "\\frac{\\binom{6}{4}\\cdot\\binom{43}{2}}{\\binom{49}{6}} = \\frac{15\\cdot 903}{13983816} \\approx 0.00096 \n",
    "$$\n",
    "\n",
    "Die Wahrscheinlichkeit ist also etwa $0.096\\%$ 4 richtige zu haben.\n",
    "</details>\n",
    "\n"
   ]
  },
  {
   "cell_type": "markdown",
   "metadata": {},
   "source": [
    "## Aufgabe 6 \n",
    "Wie viele Möglichkeiten gibt es für die Sitzordnung von fünf Personen in einem PKW, wenn nur drei davon einen Führerschein besitzen.\n",
    "\n",
    "<details>\n",
    "\n",
    "<summary>Antwort</summary>\n",
    "\n",
    "Wir müssen aus den 3 Fahrern einen wählen und die anderen 4 dann beliebig anordnen. Es gibt also $\\binom{3}{1}\\cdot 4! = 72$ Möglichkeiten\n",
    "\n",
    "Wir können dies mit Python überprüfen. \n",
    "</details>\n"
   ]
  },
  {
   "cell_type": "code",
   "execution_count": 4,
   "metadata": {},
   "outputs": [
    {
     "name": "stdout",
     "output_type": "stream",
     "text": [
      "72\n"
     ]
    }
   ],
   "source": [
    "personen = [\"kf1\", \"kf2\", \"f1\", \"f2\", \"f3\"]\n",
    "\n",
    "# anzahl personen mit führerschein\n",
    "personen_mit_f = 0\n",
    "# iteration über alle möglichkeiten\n",
    "for i in itertools.permutations(personen):\n",
    "    # wenn die person die an 1. stelle steht \n",
    "    # einen führerschein hat\n",
    "    if i[0].startswith(\"f\"):\n",
    "        personen_mit_f += 1\n",
    "# anzahl der korrekten möglichkeiten\n",
    "print(personen_mit_f)"
   ]
  },
  {
   "cell_type": "markdown",
   "metadata": {},
   "source": [
    "## Aufgabe 7 \n",
    "Angenommen wir haben fünf Personen, darunter einen Mann. Wie viele Möglichkeiten gibt es, diese fünf Personen für ein Foto aufzustellen? Angenommen der Mann soll immer in der Mitte stehen. Wie viele Möglichkeiten gibt es dafür?\n",
    "  \n",
    "<details>\n",
    "\n",
    "<summary>Antwort</summary>\n",
    "\n",
    "Es gibt genau $5!=120$ Möglichkeiten die 5 Personen aufzustellen. Wenn der eine Platz für den Mann vergeben ist, dann haben wir noch $4!=24$ Möglichkeiten für die anderen 4 Personen.\n",
    "</details>\n"
   ]
  },
  {
   "cell_type": "markdown",
   "metadata": {},
   "source": [
    "## Aufgabe 8 \n",
    "Ein Passwort soll genau zehn Stellen haben. Die Stellen können aus folgenden Zeichen bestehen: Klein-, Großbuchstaben sowie Ziffern und jedes soll genau eines von zehn Sonderzeichen enthalten. Wie viele verschiedene Passwörter gibt es.\n",
    "\n",
    "<details>\n",
    "\n",
    "<summary>Antwort</summary>\n",
    "\n",
    "Es gibt 26 Großbuchstaben, 26 Kleinbuchstaben und 10 verschiedene Ziffern. Also 62 verschiedene Symbole. Wir müssen von den 10 Stellen des Passwortes nun erst einmal die Position für das Sonderzeichen auswählen $\\binom{10}{1}$, dann das Sonderzeichen $\\binom{10}{1}$ und dann noch 9 Symbole aus den 62 Symbolen $\\binom{62}{9}$, welche wir beliebig Anordnen können $9!$. \n",
    "\n",
    "Insgesamt gibt es also\n",
    "\n",
    "$$\n",
    "\\binom{10}{1}\\cdot\\binom{10}{1}\\cdot62^9 = ??\n",
    "$$\n",
    "  \n",
    "viele Möglichkeiten.\n",
    "</details>\n"
   ]
  },
  {
   "cell_type": "markdown",
   "metadata": {},
   "source": [
    "## Aufgabe 9 \n",
    "Berechnen Sie die Wahrscheinlichkeit für folgende Ereignisse mit zwei fairen Würfeln. Tuen Sie dies mit Hilfe eines Laplace Experimentes und Python.\n",
    " 1. Es wird genau eine 4 gewürfelt,\n",
    " 2. es wird eine als Summe 7 gewürfelt,\n",
    " 3. es wird eine 3 oder eine 5 gewürfelt und\n",
    " 4. es wird eine ungerade Augenzahl gewürfelt.\n",
    "\n",
    "<details>\n",
    "\n",
    "<summary>Antwort</summary>\n",
    "\n",
    " 1. Nur Würfel 1 ist eine 4: $\\frac{1}{6}\\cdot\\frac{5}{6}$. Analog für nur Würfel 2, also in Summe $\\frac{5 + 5}{36}$.\n",
    " 2. Es gibt 6 Optionen: $(1, 6), (2, 5), (3, 4), (4, 3), (5, 2), (6, 1)$. Also $\\frac{6}{36}$.\n",
    " 3. Wenn Würfel eins eine 3 oder 5 wirft ($\\frac{2}{6}$), dann ist der zweite egal. Wenn nicht ($\\frac{4}{6}$), dann muss der zweite es tun ($\\frac{2}{6}$). Also $\\frac{2}{6} \\cdot 1 + \\frac{4}{6}\\cdot\\frac{2}{6} = \\frac{20}{36}$.\n",
    " 4. Entweder Würfel 1 ist ungerade und 2 nicht, oder umgekehrt. Also $\\frac{3}{6}\\cdot\\frac{3}{6} + \\frac{3}{6}\\cdot\\frac{3}{6} = \\frac{18}{36} = \\frac{1}{2}.$\n",
    "\n",
    "</details>"
   ]
  },
  {
   "cell_type": "code",
   "execution_count": 14,
   "metadata": {},
   "outputs": [
    {
     "name": "stdout",
     "output_type": "stream",
     "text": [
      "10 0.2777777777777778\n",
      "6 0.16666666666666666\n",
      "20 0.5555555555555556\n",
      "18 0.5\n"
     ]
    }
   ],
   "source": [
    "# Ereignisse 1-4\n",
    "e1 = 0\n",
    "e2 = 0\n",
    "e3 = 0\n",
    "e4 = 0\n",
    "\n",
    "gesamt = 0\n",
    "\n",
    "# ein Würfel hat die Ziffern von 1-6\n",
    "for a in range(1,7):\n",
    "    for b in range(1,7):\n",
    "        # anzahl aller kombinationen\n",
    "        gesamt += 1\n",
    "        # genau eine 4\n",
    "        if (a == 4 and b != 4) or (a != 4 and b == 4):\n",
    "            e1 += 1\n",
    "        # augensumme gleich 7\n",
    "        if a+b == 7:\n",
    "            e2 += 1\n",
    "        # es wird eine 3 oder 5 beobachtet\n",
    "        if a in [3,5] or b in [3,5]:\n",
    "            e3 += 1\n",
    "        # ungerade augensumme\n",
    "        if (a+b) % 2 == 1:\n",
    "            e4 += 1\n",
    "\n",
    "# Ausgabe der Anzahl \n",
    "# und der Wahrscheinlichkeit der Ereignisse\n",
    "print(e1, e1/gesamt)\n",
    "print(e2, e2/gesamt)\n",
    "print(e3, e3/gesamt)\n",
    "print(e4, e4/gesamt)\n",
    "        "
   ]
  },
  {
   "cell_type": "markdown",
   "metadata": {},
   "source": [
    "## Aufgabe 10\n",
    "Ein Bluttest für Krebs hat folgende Eigenschaften:\n",
    " 1. $p(\\text{Testergebnis ist positiv}\\vert\\text{Person hat Krebs}) = 0.98$,\n",
    " 2. $p(\\text{Testergebnis ist negativ}\\vert\\text{Person hat keinen Krebs}) = 0.97$,\n",
    " 3. $p(\\text{Person hat Krebs}) = 0.01$.\n",
    " \n",
    "Berechne die folgenden Wahrscheinlichkeiten\n",
    " 1. $p(\\text{Person hat keinen Krebs})$,\n",
    " 2. $p(\\text{Testergebnis ist positiv}\\vert\\,\\text{Person hat keinen Krebs})$,\n",
    " 3. $p(\\text{Testergebnis ist negativ}\\vert\\,\\text{Person hat Krebs})$,\n",
    " 4. $p(\\text{Person hat keinen Krebs}\\vert\\,\\text{Testergebnis ist positiv})$?\n",
    " \n",
    " Wie kann man 1, 2, 3 in Python berechnen? \n",
    "\n",
    "\n",
    "<details>\n",
    "\n",
    "<summary>Antwort</summary>\n",
    "\n",
    "Wir kürzen im Folgenden 'Person hat Krebs' mit $K$, 'Person hat keinen Krebs' mit $\\lnot K$, 'Testergebnis ist negativ' mit $\\lnot P$ und 'Testergebnis ist positiv' mit $P$ ab.\n",
    "\n",
    "1. $p(\\lnot K) = 1 - p(K) = 1-0.01 = 0.99$\n",
    "2. $p(P\\vert\\lnot K) = 1 - p(\\lnot P\\vert\\lnot K) = 1-0.97 = 0.03$\n",
    "3. $p(\\lnot P\\vert K) = 1 - p(P\\vert K) = 1-0.98 = 0.02$\n",
    "4. $p(\\lnot K\\vert P) = \\frac{p(P \\vert \\lnot K)\\cdot p(\\lnot K)}{p(P)} = \\frac{p(P \\vert \\lnot K)\\cdot p(\\lnot K)}{p(P\\vert K)\\cdot p(K)+p(P\\vert \\lnot K)\\cdot p(\\lnot K)}=\\frac{0.03\\cdot 0.99}{0.98\\cdot 0.01 + 0.03\\cdot 0.99} \\approx \\frac{0.0297}{0.0395}\\approx 0.751$\n",
    "\n",
    "Wir können dies in Python simulieren und die einzelnen Wahrscheinlichkeiten berechnen.\n",
    "</details>\n"
   ]
  },
  {
   "cell_type": "code",
   "execution_count": 10,
   "metadata": {},
   "outputs": [
    {
     "name": "stdout",
     "output_type": "stream",
     "text": [
      "0.99043\n",
      "0.030299970719788374\n",
      "0.0219435736677116\n",
      "0.762255524511049\n"
     ]
    }
   ],
   "source": [
    "gesamt_anzahl = 0\n",
    "kein_krebs_anzahl = 0\n",
    "positiv_kein_krebs_anzahl = 0\n",
    "negativ_krebs_anzahl = 0\n",
    "experiment_anzahl = 100000\n",
    "\n",
    "stichprobe = []\n",
    "\n",
    "for n in range(experiment_anzahl):\n",
    "    K = np.random.rand()\n",
    "    if K <= 0.01:\n",
    "        # Person hat Krebs\n",
    "        p = np.random.rand()\n",
    "        if p <= 0.98:\n",
    "            # positives Ergebnis\n",
    "            stichprobe.append([\"K\", \"p\"])\n",
    "        else:\n",
    "            # negatives Ergebnis\n",
    "            negativ_krebs_anzahl += 1\n",
    "            stichprobe.append([\"K\", \"n\"])\n",
    "    else:\n",
    "        # Person hat keinen Krebs\n",
    "        kein_krebs_anzahl += 1\n",
    "        p = np.random.rand()\n",
    "        if p <= 0.97:\n",
    "            # negatives Ergebnis\n",
    "            stichprobe.append([\"G\", \"n\"])\n",
    "        else:\n",
    "            # positives Ergebnis\n",
    "            positiv_kein_krebs_anzahl += 1\n",
    "            stichprobe.append([\"G\", \"p\"])\n",
    "    gesamt_anzahl += 1\n",
    "\n",
    "print(kein_krebs_anzahl/gesamt_anzahl)\n",
    "print(positiv_kein_krebs_anzahl/kein_krebs_anzahl)\n",
    "print(negativ_krebs_anzahl/(gesamt_anzahl-kein_krebs_anzahl))\n",
    "\n",
    "# Iteration über Stichprobe\n",
    "positiv_anzahl = 0\n",
    "positiv_gesund_anzahl = 0\n",
    "for krebs, ergebnis in stichprobe:\n",
    "    # wenn das ergebnis positiv\n",
    "    if ergebnis == \"p\":\n",
    "        positiv_anzahl += 1\n",
    "        # und wir gesund sind\n",
    "        if krebs == \"G\":\n",
    "            positiv_gesund_anzahl += 1\n",
    "# wahrscheinlichkeit gesund zu sein, obwohl das ergebnis positiv war\n",
    "print(positiv_gesund_anzahl/positiv_anzahl)"
   ]
  }
 ],
 "metadata": {
  "kernelspec": {
   "display_name": "Python 3 (ipykernel)",
   "language": "python",
   "name": "python3"
  },
  "language_info": {
   "codemirror_mode": {
    "name": "ipython",
    "version": 3
   },
   "file_extension": ".py",
   "mimetype": "text/x-python",
   "name": "python",
   "nbconvert_exporter": "python",
   "pygments_lexer": "ipython3",
   "version": "3.10.4"
  }
 },
 "nbformat": 4,
 "nbformat_minor": 4
}
