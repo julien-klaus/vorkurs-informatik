{
 "cells": [
  {
   "cell_type": "markdown",
   "metadata": {},
   "source": [
    "# Python\n",
    "Python ist eine interpretierte Sprache und wurden 1991 von Guido van Rossum entwickelt. Man unterscheidet Python 2 und Python 3. Wir werden hier mit Python 3 arbeiten.\n",
    "\n",
    "## Installation und Start\n",
    "Python kann über die Website www.python.org heruntergeladen und installiert werden. In der Konsole kann die Pythonumgebung dann mit dem Befehl `python3` gestartet werden. \n",
    "\n",
    "Wir werden hier ein Jupyter Notebook verwenden.\n",
    "\n",
    "## Jupyter Notebook\n",
    "Ein Jupyter Notebook erlaubt uns Programmcode direkt auszuführen. Hierfür können wir in einer Zelle einfach **Shift + Enter** klicken und der Inhalt wird ausgeführt und ausgewertet. Um eine Zelle zu bearbeiten klickt man einfach in die Zelle.\n",
    "\n",
    "## Python Objekte, Basistypen und Variablen\n",
    "Alles in Python ist ein Objekt und hat einen Typ. Einige Typen sind:\n",
    "* **`int`** (Integer, eine ganze Zahl)\n",
    "    * `4`\n",
    "    * `-6`\n",
    "* **`float`** (Float, eine Gleitkommazahl)\n",
    "    * `4.4`\n",
    "    * `-0.013`\n",
    "* **`str`** (String, Zeichenketten welche in Anführungsstrichen stehen)\n",
    "    * `'Dies ist ein String in einfachen Hochkommas.'`\n",
    "    * `\"Dies ist ein String in doppelten Hochkommas.\"`\n",
    "* **`bool`** (Boolean, Wahrheitswerte die entweder wahr oder falsch sind)\n",
    "    * `True`\n",
    "    * `False`\n",
    "* **NoneType**\n",
    "    * `None`\n",
    "\n",
    "Eine Variable ist einfach ein Name welchen man ein Objekt zuordnet. Beispielsweise weist `a=3.4` der Variablen `a` den Wert `3.4` zu. Im Programmcode kann dann durch den Variablennamen auf diesen Wert verwiesen werden. Variablennamen dürfen Buchstaben, Zahlen und Unterstriche enthalten, wobei sie nicht mit einer Zahl starten dürfen.\n",
    "\n",
    "## Basis Operatoren\n",
    "Es gibt verschiedene Operatoren welche auf verschiedenen Werten arbeiten und durch spezielle Symbole gekennzeichnet werden. Eine Auswahl beeinhaltet:\n",
    "* Arithmetische Operationen\n",
    "    * `+` (Addition)\n",
    "    * `-` (Subtraktion)\n",
    "    * `*` (Multiplikation)\n",
    "    * `/`(Division)\n",
    "    * `**` (Exponent)\n",
    "* Zuweisungsoperatoren\n",
    "    * `=` (Zuweisung eines Wertes)\n",
    "    * `+=` (Addition und erneute Zuweisung eines Wertes)\n",
    "    * `-=` (Subtraktion und erneute Zuweisung eines Wertes)\n",
    "    * `*=` (Multiplikation und erneute Zuweisung eines Wertes)\n",
    "    * `%` (Ganzzahliger Rest nach einer Division)\n",
    "* Vergleichoperatoren (liefern `True` oder `False`)\n",
    "    * `==` (Gleichheit)\n",
    "    * `!=` (Ungleich)\n",
    "    * `<` (Kleiner)\n",
    "    * `<=` (Kleiner Gleich)\n",
    "    * `>` (Größer)\n",
    "    * `>=` (Größer Gleich)\n",
    "* Logische Operatoren (Verknüpfen Aussagen, die `True` oder `False` liefern\n",
    "    * `and` (Und)\n",
    "    * `or` (Oder)\n",
    "    * `not` (Nicht)\n",
    "    \n",
    "Operatoren können mithilfe von Klammern `()` gruppiert werden. Außerdem gibt es eine Ausführungsreihenfolge, welche die folgende Liste von oben nach unten liefert:\n",
    "1. `()`\n",
    "2. `**`\n",
    "3. `*,/`\n",
    "4. `+,-`\n",
    "5. `==, !=, <, <=, >, >=`\n",
    "\n",
    "Umso weiter unten ein Operator steht umso später wird diese ausgeführt.\n",
    "\n",
    "## Kommentare\n",
    "In Python werden Kommentare (nicht ausgewerteter Code) mit einem Doppelkreuz (`#`) begonnen.\n",
    "\n",
    "## Beispiel\n",
    "In diesem Beispiel werden zwei Variablen `a` und `b` erzeugt und ihnen die Werte `1` und `2` hinzugefügt. Diese werden mit verschiedenen Operationen verknüpft."
   ]
  },
  {
   "cell_type": "code",
   "execution_count": 1,
   "metadata": {},
   "outputs": [],
   "source": [
    "a = 1\n",
    "b = 2"
   ]
  },
  {
   "cell_type": "code",
   "execution_count": 2,
   "metadata": {},
   "outputs": [
    {
     "data": {
      "text/plain": [
       "3"
      ]
     },
     "execution_count": 2,
     "metadata": {},
     "output_type": "execute_result"
    }
   ],
   "source": [
    "a+b"
   ]
  },
  {
   "cell_type": "code",
   "execution_count": 3,
   "metadata": {},
   "outputs": [
    {
     "data": {
      "text/plain": [
       "-1"
      ]
     },
     "execution_count": 3,
     "metadata": {},
     "output_type": "execute_result"
    }
   ],
   "source": [
    "a**2 - b"
   ]
  },
  {
   "cell_type": "code",
   "execution_count": 4,
   "metadata": {},
   "outputs": [
    {
     "data": {
      "text/plain": [
       "False"
      ]
     },
     "execution_count": 4,
     "metadata": {},
     "output_type": "execute_result"
    }
   ],
   "source": [
    "a-b == b-a"
   ]
  },
  {
   "cell_type": "markdown",
   "metadata": {},
   "source": [
    "## Aufgaben\n",
    "* Legen zwei Variablen `alter` und `name` mit deinem Alter und deinem Namen. Versuche danach folgenden Satz auszugeben: \"_name_ ist _alter_*12 Monate alt.\" _Hinweis: `str(4)` übersetzt die Zahl 4 in eine Zeichenkette, `print('hallo')` gibt `'hallo'` aus._\n",
    "* Addiere zwei Zahlen\n",
    "* Teile durch Null"
   ]
  },
  {
   "cell_type": "code",
   "execution_count": 5,
   "metadata": {},
   "outputs": [
    {
     "name": "stdout",
     "output_type": "stream",
     "text": [
      "Julien ist 264 Monate alt.\n",
      "Julien ist 264 Monate alt.\n"
     ]
    }
   ],
   "source": [
    "# Hier kommt dein Lösungscode, den du mit Shift+Enter ausführen kannst.\n",
    "alter = 22\n",
    "name = \"Julien\"\n",
    "text = name + \" ist \" + str(alter*12) + \" Monate alt.\"\n",
    "print(text)\n",
    "# Alternative\n",
    "print(name, \"ist\", alter*12, \"Monate alt.\")"
   ]
  },
  {
   "cell_type": "markdown",
   "metadata": {},
   "source": [
    "## Kontrollstrukturen\n",
    "### Verzweigungen (`if`)\n",
    "Häufig möchte man aufgrund einer Bedingung den Programmcode unterbrechen. Python liefert uns dafür die `if`, `elif` und `else` Befehle. Diese erhalten nachfolgend (bis auf `else`) einen Ausdruck der zu `True` oder `False` ausgewertet werden kann. Darauf folgt ein Doppelpunkt und in der nächsten Zeile mit einem TAB eingerückt der Programmcode, der ausgeführt werden soll, wenn der Ausdruck wahr ist. Folgendes Beispiel verdeutlicht die Benutzung der Verzweigung. Wir verwenden den `print` Befehl um etwas auszugeben."
   ]
  },
  {
   "cell_type": "code",
   "execution_count": 6,
   "metadata": {},
   "outputs": [
    {
     "name": "stdout",
     "output_type": "stream",
     "text": [
      "Du musst leider noch arbeiten.\n"
     ]
    }
   ],
   "source": [
    "alter = 30\n",
    "if alter <= 12:\n",
    "    print(\"Du bist ein Teen.\")\n",
    "elif alter < 65:\n",
    "    print(\"Du musst leider noch arbeiten.\")\n",
    "else:\n",
    "    print(\"Dub ist alt.\")"
   ]
  },
  {
   "cell_type": "markdown",
   "metadata": {},
   "source": [
    "Da wir zwischen `12` und `65` sind müssen wir leider noch arbeiten. \n",
    "\n",
    "### Aufgaben\n",
    "* Verändere das obige Programm (einfach in die Zelle klicken und danach mit Shift+Enter bestätigen) in die Richtung, dass man nun bis `70` arbeiten muss. Lege nach `alter` eine zusätzliche Variable `reich` an, welche entweder `True` oder `False` sein kann. Wenn man jünger als `70` ist und `reich`, dann muss man nicht arbeiten. Fügen Sie diese Verzweigung hinzu.\n",
    "* Sortiere zwei vorher festgelegte Zahlen mithilfe von Verzweigungen. \n",
    "* Sortiere drei vorher festgelegte Zahlen und gib sie in der Richtigen Reihenfolge aus.\n",
    "* Überprüfe, ob ein Jahr ein Schaltjahr ist. Dabei gelten folgende Regeln:\n",
    "    * Jahr ist nicht durch vier teilbar -> kein Schaltjahr\n",
    "    * Jahr durch 4 teilbar -> Schaltjahr\n",
    "    * Jahr durch 100 teilbar -> kein Schaltjahr\n",
    "    * Jahr durch 400 teilbar -> Schaltjahr"
   ]
  },
  {
   "cell_type": "code",
   "execution_count": 7,
   "metadata": {},
   "outputs": [
    {
     "name": "stdout",
     "output_type": "stream",
     "text": [
      "Du ist alt oder reich.\n",
      "2 3\n",
      "2 3 5\n",
      "Ein Schaltjahr.\n"
     ]
    }
   ],
   "source": [
    "# Lösung\n",
    "# A\n",
    "alter = 30\n",
    "reich = True\n",
    "if alter <= 12:\n",
    "    print(\"Du bist ein Teen.\")\n",
    "elif alter <= 70 and not reich:\n",
    "    print(\"Du musst leider noch arbeiten.\")\n",
    "else:\n",
    "    print(\"Du ist alt oder reich.\")\n",
    "    \n",
    "# B\n",
    "a = 3\n",
    "b = 2\n",
    "if a < b:\n",
    "    print(a,b)\n",
    "else:\n",
    "    print(b,a)\n",
    "    \n",
    "# C\n",
    "a = 3\n",
    "b = 2\n",
    "c = 5\n",
    "if a < b and b < c:\n",
    "    print(a, b, c)\n",
    "elif a < b and c < b and a < c:\n",
    "    print(a, c, b)\n",
    "elif a < b and c < b:\n",
    "    print(c, a, b)\n",
    "elif b < a and c < a and b < c:\n",
    "    print(b, c, a)\n",
    "elif b < a and a < c:\n",
    "    print(b, a, c)\n",
    "else:\n",
    "    print(c, b, a)\n",
    "    \n",
    "# D\n",
    "jahr = 400\n",
    "if jahr % 4 != 0:\n",
    "    print(\"Kein Schaltjahr.\")\n",
    "else:\n",
    "    if jahr % 100 == 0:\n",
    "        if jahr % 400 == 0:\n",
    "            print(\"Ein Schaltjahr.\")\n",
    "        else:\n",
    "            print(\"Kein Schaltjahr.\")\n",
    "    else:\n",
    "        print(\"Ein Schaltjahr.\")"
   ]
  },
  {
   "cell_type": "markdown",
   "metadata": {},
   "source": [
    "### Schleifen (`for`, `while`)\n",
    "Wenn man Programmcode mehrfach ausführen möchte bieten sich hierfür Schleifen an. Python verwendet für diese die Schlüsselworte `while` und `for`. Auch diese erhalten einen Ausdruck und werden mit einem Doppelpunkt eingeführt. Die `for` Schleife läuft dabei immer über eine Liste von Objekten (wir erfahren gleich was eine Liste ist), deshalb ist die Syntax für diese `for _object_ in _liste_`, wobei in jedem Schleifenschritt ein Objekt der Liste sich in `_objekt_` befindet. Es bietet sich auch der Befehl `range(start, stop, schritt)` an. Diesem können bis zu drei Parameter übergeben werden. So kann man mit `range(1,10,2)` die Zahlen `1,3,5,7,9` erhalten. Das folgende Beispiel zeigt dies im Code sowohl für die `for` als auch die `while` Schleife."
   ]
  },
  {
   "cell_type": "code",
   "execution_count": 8,
   "metadata": {},
   "outputs": [
    {
     "name": "stdout",
     "output_type": "stream",
     "text": [
      "For Schleife:\n",
      "1\n",
      "3\n",
      "5\n",
      "7\n",
      "9\n",
      "While Schleife:\n",
      "1\n",
      "3\n",
      "5\n",
      "7\n",
      "9\n"
     ]
    }
   ],
   "source": [
    "start = 1\n",
    "stop = 10\n",
    "schritt = 2\n",
    "\n",
    "print(\"For Schleife:\")\n",
    "\n",
    "for i in range(start, stop, schritt):\n",
    "    print(i)\n",
    "\n",
    "print(\"While Schleife:\")\n",
    "object_variable = start\n",
    "while object_variable < stop:\n",
    "    print(object_variable)\n",
    "    object_variable += 2"
   ]
  },
  {
   "cell_type": "markdown",
   "metadata": {},
   "source": [
    "### Aufgaben\n",
    "* Versuche den obigen Quelltext zu verstehen. Kannst du eine `for` und `while` Schleife angeben, welche die ersten zehn Zweierpotenzen ausgibt (1,2,4,...,1024).\n",
    "* Gebe einen beliebigen Text vier mal aus.\n",
    "* Bilde die Summe für ein vorher festgelegtes n als $$\\sum_{i=1}^n \\frac{1}{i}$$ (Beispiel n=100 liefert 5.187377517639621). (Beispiel: n=100 liefert 5.187377517639621, **Hinweis:** range(1, 100) enthält nur die Zahlen 0 - 99.)\n",
    "* Berechne für eine feste Zahl die Fakultät."
   ]
  },
  {
   "cell_type": "code",
   "execution_count": 9,
   "metadata": {},
   "outputs": [
    {
     "name": "stdout",
     "output_type": "stream",
     "text": [
      "1 2 4 8 16 32 64 128 256 512 \n",
      "1 2 4 8 16 32 64 128 256 512 \n",
      "beliebiger text\n",
      "beliebiger text\n",
      "beliebiger text\n",
      "beliebiger text\n",
      "beliebiger textbeliebiger textbeliebiger textbeliebiger text\n",
      "5.187377517639621\n",
      "test für n = 4 24\n",
      "24\n"
     ]
    }
   ],
   "source": [
    "# Lösung\n",
    "# A\n",
    "for i in range(10):\n",
    "    print(2**i, end=\" \")\n",
    "\n",
    "print()\n",
    "start = 0\n",
    "stop = 10\n",
    "lauf_variable = start\n",
    "while lauf_variable < stop:\n",
    "    print(2**lauf_variable, end=\" \")\n",
    "    lauf_variable += 1\n",
    "print()\n",
    "\n",
    "# B \n",
    "beliebiger_text = \"beliebiger text\"\n",
    "for i in range(4):\n",
    "    print(beliebiger_text)\n",
    "# Alternative\n",
    "print(beliebiger_text*4)\n",
    "\n",
    "# C\n",
    "n = 100\n",
    "summe = 0\n",
    "for i in range(1, n+1):\n",
    "    # summe = summe + 1/i\n",
    "    summe += 1/i\n",
    "print(summe)\n",
    "\n",
    "# D - Die Fakultät ist das Produkt der erste n Zahlen\n",
    "n = 4\n",
    "print(\"test für n = 4\", 1*2*3*4)\n",
    "fakultät = 1\n",
    "for i in range(1,n+1):\n",
    "    fakultät = fakultät*i\n",
    "print(fakultät)"
   ]
  },
  {
   "cell_type": "markdown",
   "metadata": {},
   "source": [
    "### Listen\n",
    "Die Liste ist ein Basiscontainer in Python. In einen Container kann man beliebige Objekte sammeln. Listen werden mit eckigen Klammern erstellt oder einfach mit dem Befehl `list()`. Um einer Liste etwas hinzuzufügen benutzt man den Befehl `append()`. Weitere Befehle findet man unter docs.python.org/3/tutorial/datastructures.html. Um über eine Liste zu iterieren benötigt man häufig die Länge einer Liste dies liefert der Befehl `len`. Wir zeigen die Verwendung einer Liste in dem folgenden Beispiel."
   ]
  },
  {
   "cell_type": "code",
   "execution_count": 10,
   "metadata": {},
   "outputs": [
    {
     "name": "stdout",
     "output_type": "stream",
     "text": [
      "Die Liste hat 4 viele Elemente.\n",
      "3\n",
      "4.5\n",
      "Hund\n",
      "True\n",
      "3\n",
      "4.5\n",
      "Hund\n",
      "True\n"
     ]
    }
   ],
   "source": [
    "liste = [3, 4.5, 'Hund', True]\n",
    "laenge_liste = len(liste)\n",
    "print(\"Die Liste hat \" + str(laenge_liste) + \" viele Elemente.\")\n",
    "\n",
    "# Iterieren über eine Liste\n",
    "for i in liste:\n",
    "    print(i)\n",
    "\n",
    "# Zugriff über Index i\n",
    "for i in range(laenge_liste):\n",
    "    print(liste[i])"
   ]
  },
  {
   "cell_type": "markdown",
   "metadata": {},
   "source": [
    "### Aufgaben\n",
    "* Füge zwei Listen zusammen.\n",
    "* Entferne ein Element aus einer Liste.\n",
    "* Trenne eine Liste an einem gegebenen Index in zwei Teillisten (Hinweis: Lege neue Listen an.)"
   ]
  },
  {
   "cell_type": "code",
   "execution_count": 11,
   "metadata": {},
   "outputs": [
    {
     "name": "stdout",
     "output_type": "stream",
     "text": [
      "[1, 2, 3, 4, 5, 6, 7, 7]\n",
      "[4, 5, 6, 7]\n",
      "[1, 2, 3, 4, 5, 6, 7, 7] [1, 2, 3] [4, 5, 6, 7, 7]\n"
     ]
    }
   ],
   "source": [
    "# Lösung\n",
    "# A\n",
    "l1 = [1,2,3]\n",
    "l2 = [4,5,6,7,7]\n",
    "l3 = []\n",
    "for i in l1:\n",
    "    l3.append(i)\n",
    "for i in l2:\n",
    "    l3.append(i)\n",
    "print(l3)\n",
    "\n",
    "# B\n",
    "l2.remove(7)\n",
    "print(l2)\n",
    "\n",
    "# C\n",
    "l4 = []\n",
    "l5 = []\n",
    "index = 3\n",
    "for i in range(len(l3)):\n",
    "    if i < 3:\n",
    "        l4.append(l3[i])\n",
    "    else:\n",
    "        l5.append(l3[i])\n",
    "print(l3, l4, l5)"
   ]
  },
  {
   "cell_type": "markdown",
   "metadata": {},
   "source": [
    "### Aufgabe\n",
    "Bestimme alle Primzahlen von 2 bis 100 mithilfe des [Sieb des Eratostenes](https://de.wikipedia.org/wiki/Sieb_des_Eratosthenes)."
   ]
  },
  {
   "cell_type": "code",
   "execution_count": 12,
   "metadata": {},
   "outputs": [
    {
     "name": "stdout",
     "output_type": "stream",
     "text": [
      "[2, 3, 5, 7, 11, 13, 17, 19, 23, 29, 31, 37, 41, 43, 47, 53, 59, 61, 67, 71, 73, 79, 83, 89, 97]\n"
     ]
    }
   ],
   "source": [
    "# Lösung\n",
    "n = 100\n",
    "def primzahlen_bis(n):\n",
    "    liste = list(range(2,n+1))\n",
    "    primzahlen = []\n",
    "    while len(liste) > 0:\n",
    "        erste_element = liste.pop(0)\n",
    "        for element in liste:\n",
    "            if element % erste_element == 0:\n",
    "                liste.remove(element)\n",
    "        primzahlen.append(erste_element)\n",
    "    return primzahlen\n",
    "print(primzahlen_bis(100))"
   ]
  },
  {
   "cell_type": "markdown",
   "metadata": {},
   "source": [
    "### Aufgabe\n",
    "Schreibe die Zahl 100,000 als das Produkt von zwei Zahlen, die beide keine Null beinhalten.\n",
    "\n",
    "_Hinweis: `list(str(zahl))` liefert eine Zahl als Liste von String Objekten._"
   ]
  },
  {
   "cell_type": "code",
   "execution_count": 13,
   "metadata": {},
   "outputs": [
    {
     "name": "stdout",
     "output_type": "stream",
     "text": [
      "32 3125\n",
      "3125 32\n"
     ]
    }
   ],
   "source": [
    "# Lösung\n",
    "for i in range(10000):\n",
    "    for j in range(10000):\n",
    "        if i*j == 100000:\n",
    "            if not '0' in list(str(i)) and not '0' in list(str(j)):\n",
    "                print(i,j)"
   ]
  },
  {
   "cell_type": "markdown",
   "metadata": {},
   "source": [
    "### Aufgabe \n",
    "Ziehen Sie mithilfe von Numpy zwei Zufallszahlen. Wie kann man damit $\\pi$ approximieren?"
   ]
  },
  {
   "cell_type": "code",
   "execution_count": 14,
   "metadata": {},
   "outputs": [
    {
     "name": "stdout",
     "output_type": "stream",
     "text": [
      "3.12876\n"
     ]
    }
   ],
   "source": [
    "# Lösung\n",
    "import numpy as np\n",
    "\n",
    "n = 100000\n",
    "found = 0\n",
    "for i in range(n):\n",
    "    a = np.random.rand()\n",
    "    b = np.random.rand()\n",
    "    if a**2 + b**2 <= 1:\n",
    "        found += 1\n",
    "print(4*found/n)"
   ]
  },
  {
   "cell_type": "markdown",
   "metadata": {},
   "source": [
    "### Aufgabe \n",
    "Finde die kleinste natürliche Zahl die auf 6 endet und wenn man die 6 am Ende entfernt und an den Anfang stellt, vier mal so groß ist wie die ursprüngliche Zahl."
   ]
  },
  {
   "cell_type": "code",
   "execution_count": 15,
   "metadata": {},
   "outputs": [
    {
     "name": "stdout",
     "output_type": "stream",
     "text": [
      "153846\n"
     ]
    }
   ],
   "source": [
    "# Lösung\n",
    "i = 0\n",
    "found = False\n",
    "while not found:\n",
    "    # wir wandeln die zahl in eine liste von string zahlen \n",
    "    liste_i = list(str(i))\n",
    "    # wenn diese liste am ende eine \"6\" hat könnte sie ein kandidat sein\n",
    "    if liste_i[-1] == \"6\":\n",
    "        # entfernen wir die \"6\" am Ende\n",
    "        neue_zahl = liste_i.pop(-1)\n",
    "        # und fügen vorne eine \"6\" an\n",
    "        liste_i.insert(0,\"6\")\n",
    "        # wir verbinden die elemente der Liste und wandeln sie in eine zahl um\n",
    "        neue_zahl = int(\"\".join(liste_i))\n",
    "        if neue_zahl/4 == i:\n",
    "            print(i)\n",
    "            found = True\n",
    "    i = i+1"
   ]
  },
  {
   "cell_type": "markdown",
   "metadata": {},
   "source": [
    "### Aufgabe\n",
    "Ein Pythagoreisches Tripel ist eine Menge von drei natürlichen Zahlen $a<b<c$ für welche gilt:\n",
    " $$\n",
    "  a^2+b^2 = c^2\n",
    " $$\n",
    " Es gibt ein Tripel, für das gilt $a+b+c=1000$. Wie lautet das Produkt $abc$ dieses Tripel?"
   ]
  },
  {
   "cell_type": "code",
   "execution_count": 16,
   "metadata": {},
   "outputs": [
    {
     "name": "stdout",
     "output_type": "stream",
     "text": [
      "200 375 425\n"
     ]
    }
   ],
   "source": [
    "# Lösung\n",
    "for a in range(1, 1000):\n",
    "    for b in range(a+1, 1000):\n",
    "        c = np.sqrt(a**2 + b**2)\n",
    "        if a**2 + b**2 == c**2:\n",
    "            if a+b+c == 1000:\n",
    "                print(a,b,int(c))"
   ]
  },
  {
   "cell_type": "markdown",
   "metadata": {},
   "source": [
    "### Aufgabe\n",
    "Die Primfaktoren von $13195$ sind $5,7,13$ und $29$. Was ist der größte Primfaktor von $600851475143$?"
   ]
  },
  {
   "cell_type": "code",
   "execution_count": 17,
   "metadata": {},
   "outputs": [],
   "source": [
    "# Lösung\n",
    "primzahlen = primzahlen_bis(int(np.sqrt(600851475143)))"
   ]
  },
  {
   "cell_type": "code",
   "execution_count": 18,
   "metadata": {},
   "outputs": [
    {
     "name": "stdout",
     "output_type": "stream",
     "text": [
      "6857\n"
     ]
    }
   ],
   "source": [
    "zahl = 600851475143\n",
    "länge = len(primzahlen)\n",
    "i = länge-1\n",
    "while i >= 0:\n",
    "    if zahl % primzahlen[i] == 0:\n",
    "        print(primzahlen[i])\n",
    "        break\n",
    "    i = i-1"
   ]
  },
  {
   "cell_type": "code",
   "execution_count": null,
   "metadata": {},
   "outputs": [],
   "source": []
  }
 ],
 "metadata": {
  "kernelspec": {
   "display_name": "Python 3",
   "language": "python",
   "name": "python3"
  },
  "language_info": {
   "codemirror_mode": {
    "name": "ipython",
    "version": 3
   },
   "file_extension": ".py",
   "mimetype": "text/x-python",
   "name": "python",
   "nbconvert_exporter": "python",
   "pygments_lexer": "ipython3",
   "version": "3.7.3"
  }
 },
 "nbformat": 4,
 "nbformat_minor": 1
}
